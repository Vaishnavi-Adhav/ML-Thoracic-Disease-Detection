{
 "cells": [
  {
   "cell_type": "markdown",
   "id": "aa55e576",
   "metadata": {},
   "source": [
    "## For training + Validation + Test Data"
   ]
  },
  {
   "cell_type": "code",
   "execution_count": 1,
   "id": "92fb7eba",
   "metadata": {},
   "outputs": [
    {
     "name": "stdout",
     "output_type": "stream",
     "text": [
      "Data has been copied and split to data_300_80_100.\n"
     ]
    }
   ],
   "source": [
    "import os\n",
    "import random\n",
    "import shutil\n",
    "\n",
    "# Set your data path\n",
    "main_data_path = 'Nih All d'  \n",
    "new_main_data_path = 'data_300_80_100'  \n",
    "train_val_test_folders = ['train', 'val', 'test']\n",
    "sample_sizes = {'train': 300, 'val': 80, 'test': 100}\n",
    "included_categories = ['Atelectasis', 'Effusion', 'Infiltration', 'No Finding', 'Nodule']\n",
    "\n",
    "# Create the new main \"data\" folder\n",
    "if not os.path.exists(new_main_data_path):\n",
    "    os.makedirs(new_main_data_path)\n",
    "\n",
    "# Iterate through each category and copy/split images\n",
    "for category in os.listdir(main_data_path):\n",
    "    # Skip categories not in the included list\n",
    "    if category not in included_categories:\n",
    "        continue\n",
    "\n",
    "    category_path = os.path.join(main_data_path, category)\n",
    "    new_category_path = os.path.join(new_main_data_path, category)\n",
    "\n",
    "    # Create subfolders for training, validation, and test\n",
    "    for folder in train_val_test_folders:\n",
    "        subfolder_path = os.path.join(new_main_data_path, folder, category)\n",
    "        if not os.path.exists(subfolder_path):\n",
    "            os.makedirs(subfolder_path)\n",
    "\n",
    "    # Copy and split images\n",
    "    category_images = os.listdir(category_path)\n",
    "\n",
    "    # Randomly shuffle the images\n",
    "    random.shuffle(category_images)\n",
    "\n",
    "    # Split the images into training, validation, and test sets\n",
    "    train_images = category_images[:sample_sizes['train']]\n",
    "    val_images = category_images[sample_sizes['train']:sample_sizes['train'] + sample_sizes['val']]\n",
    "    test_images = category_images[sample_sizes['train'] + sample_sizes['val']: \n",
    "                                  sample_sizes['train'] + sample_sizes['val'] + sample_sizes['test']]\n",
    "\n",
    "    # Copy training images\n",
    "    for image_name in train_images:\n",
    "        source_path = os.path.join(category_path, image_name)\n",
    "        destination_path = os.path.join(new_main_data_path, 'train', category, image_name)\n",
    "        shutil.copyfile(source_path, destination_path)\n",
    "\n",
    "    # Copy validation images\n",
    "    for image_name in val_images:\n",
    "        source_path = os.path.join(category_path, image_name)\n",
    "        destination_path = os.path.join(new_main_data_path, 'val', category, image_name)\n",
    "        shutil.copyfile(source_path, destination_path)\n",
    "\n",
    "    # Copy test images\n",
    "    for image_name in test_images:\n",
    "        source_path = os.path.join(category_path, image_name)\n",
    "        destination_path = os.path.join(new_main_data_path, 'test', category, image_name)\n",
    "        shutil.copyfile(source_path, destination_path)\n",
    "\n",
    "print(f\"Data has been copied and split to {new_main_data_path}.\")\n"
   ]
  },
  {
   "cell_type": "code",
   "execution_count": null,
   "id": "52737c50",
   "metadata": {},
   "outputs": [],
   "source": []
  }
 ],
 "metadata": {
  "kernelspec": {
   "display_name": "Python 3 (ipykernel)",
   "language": "python",
   "name": "python3"
  },
  "language_info": {
   "codemirror_mode": {
    "name": "ipython",
    "version": 3
   },
   "file_extension": ".py",
   "mimetype": "text/x-python",
   "name": "python",
   "nbconvert_exporter": "python",
   "pygments_lexer": "ipython3",
   "version": "3.10.9"
  }
 },
 "nbformat": 4,
 "nbformat_minor": 5
}
